{
 "cells": [
  {
   "cell_type": "code",
   "execution_count": 1,
   "metadata": {},
   "outputs": [],
   "source": [
    "import warnings; warnings.simplefilter('ignore')"
   ]
  },
  {
   "cell_type": "code",
   "execution_count": 2,
   "metadata": {},
   "outputs": [],
   "source": [
    "import os\n",
    "os.environ[\"CUDA_VISIBLE_DEVICES\"]=\"0\"  # or if you want more than 1 GPU set it as \"0\", \"1\""
   ]
  },
  {
   "cell_type": "code",
   "execution_count": 3,
   "metadata": {},
   "outputs": [],
   "source": [
    "import pandas as pd \n",
    "import numpy as np \n",
    "import re,string\n",
    "from bs4 import BeautifulSoup"
   ]
  },
  {
   "cell_type": "code",
   "execution_count": 4,
   "metadata": {},
   "outputs": [],
   "source": [
    "from nltk import sent_tokenize, word_tokenize\n",
    "from nltk import bigrams, trigrams\n",
    "from nltk import WordNetLemmatizer\n",
    "\n",
    "from nltk.util import ngrams, pad_sequence\n",
    "from collections import Counter, defaultdict\n",
    "from nltk.corpus import stopwords"
   ]
  },
  {
   "cell_type": "code",
   "execution_count": 5,
   "metadata": {},
   "outputs": [],
   "source": [
    "from tensorflow.keras.callbacks import ModelCheckpoint\n",
    "from tensorflow.keras.preprocessing.text import Tokenizer\n",
    "\n",
    "from tensorflow.keras.utils import to_categorical\n",
    "from tensorflow.keras.layers import Dense, Dropout\n",
    "from tensorflow.keras.models import Sequential, load_model\n",
    "from tensorflow.keras import losses\n",
    "from tensorflow.keras import backend\n",
    "from tensorflow.keras import callbacks"
   ]
  },
  {
   "cell_type": "code",
   "execution_count": 6,
   "metadata": {},
   "outputs": [],
   "source": [
    "ftrain=open(\"train.txt\", \"r\",encoding=\"utf-8\")\n",
    "text_raw = ftrain.read()"
   ]
  },
  {
   "cell_type": "code",
   "execution_count": 7,
   "metadata": {},
   "outputs": [
    {
     "data": {
      "text/plain": [
       "5034054"
      ]
     },
     "execution_count": 7,
     "metadata": {},
     "output_type": "execute_result"
    }
   ],
   "source": [
    "len(text_raw)"
   ]
  },
  {
   "cell_type": "code",
   "execution_count": 8,
   "metadata": {},
   "outputs": [],
   "source": [
    "#text_raw = text_raw[:200000]"
   ]
  },
  {
   "cell_type": "code",
   "execution_count": 9,
   "metadata": {},
   "outputs": [],
   "source": [
    "def prepare_text(text_raw):\n",
    "    text = text_raw\n",
    "    # replace \\n characters with space\n",
    "    text=re.sub('\\n',' ',text)\n",
    "    # remove html tags\n",
    "    soup = BeautifulSoup(text, \"html.parser\")\n",
    "    text = soup.get_text()  \n",
    "    # convert to lower case\n",
    "    text = text.lower()\n",
    "\n",
    "    text_sents = sent_tokenize(text)\n",
    "\n",
    "    all_tokens = []\n",
    "    text_sents_cleaned = []\n",
    "    tokenized_word_sents = []\n",
    "    for s in text_sents:\n",
    "        s_cleaned = re.sub(\"[^a-zA-Z]\", \" \", s)\n",
    "        s_words = word_tokenize(s_cleaned)\n",
    "        for t in s_words:\n",
    "            all_tokens.append(t)\n",
    "        if(len(s_words) > 0):\n",
    "            text_sents_cleaned.append(s_cleaned)\n",
    "            tokenized_word_sents.append(s_words)\n",
    "\n",
    "    all_tokens.append('none')\n",
    "    all_tokens.append('None')\n",
    "    all_tokens.append('<s>')\n",
    "    all_tokens.append('</s>')\n",
    "\n",
    "    print(\"len of all sentences: \",len(tokenized_word_sents))\n",
    "    print(\"len of all tokens: \",len(all_tokens))\n",
    "    return all_tokens, text_sents_cleaned, tokenized_word_sents"
   ]
  },
  {
   "cell_type": "code",
   "execution_count": 10,
   "metadata": {},
   "outputs": [
    {
     "name": "stdout",
     "output_type": "stream",
     "text": [
      "len of all sentences:  42801\n",
      "len of all tokens:  839510\n"
     ]
    }
   ],
   "source": [
    "all_tokens, text_sents_cleaned, tokenized_word_sents = prepare_text(text_raw)"
   ]
  },
  {
   "cell_type": "code",
   "execution_count": 11,
   "metadata": {},
   "outputs": [
    {
     "name": "stdout",
     "output_type": "stream",
     "text": [
      "first sentence:\n",
      " many are the hours in which i have pondered upon the story that is set forth in the following pages \n",
      "\n",
      "words of first sentence:\n",
      " ['many', 'are', 'the', 'hours', 'in', 'which', 'i', 'have', 'pondered', 'upon', 'the', 'story', 'that', 'is', 'set', 'forth', 'in', 'the', 'following', 'pages']\n",
      "\n",
      "padded words of first sentence:\n",
      " ['<s>', 'many', 'are', 'the', 'hours', 'in', 'which', 'i', 'have', 'pondered', 'upon', 'the', 'story', 'that', 'is', 'set', 'forth', 'in', 'the', 'following', 'pages', '</s>']\n"
     ]
    }
   ],
   "source": [
    "# sample sentence\n",
    "\n",
    "print(\"first sentence:\\n\" , text_sents_cleaned[0])\n",
    "s_words = word_tokenize(text_sents_cleaned[0])\n",
    "print(\"\\nwords of first sentence:\\n\" , s_words)\n",
    "s_padded = pad_sequence(s_words,pad_left=True,left_pad_symbol=\"<s>\",pad_right=True,right_pad_symbol=\"</s>\",n=2)\n",
    "print(\"\\npadded words of first sentence:\\n\" , list(s_padded))\n"
   ]
  },
  {
   "cell_type": "code",
   "execution_count": 12,
   "metadata": {},
   "outputs": [],
   "source": [
    "def build_glove_word2vec():\n",
    "    from gensim.test.utils import datapath, get_tmpfile\n",
    "    from gensim.models import KeyedVectors\n",
    "    from gensim.scripts.glove2word2vec import glove2word2vec\n",
    "\n",
    "    glove_file = datapath('F:\\\\Projects\\\\CA-3\\\\glove.6B.50d.txt')\n",
    "    tmp_file = get_tmpfile('F:\\\\Projects\\\\CA-3\\\\word2vec.txt')\n",
    "\n",
    "    word2vec_shape = glove2word2vec(glove_file, tmp_file)\n",
    "\n",
    "    print(\"word2vec_shape --> num_lines , dims : \" , word2vec_shape)\n",
    "    word2vec_model = KeyedVectors.load_word2vec_format(tmp_file)\n",
    "    return word2vec_model"
   ]
  },
  {
   "cell_type": "code",
   "execution_count": 13,
   "metadata": {},
   "outputs": [
    {
     "name": "stdout",
     "output_type": "stream",
     "text": [
      "word2vec_shape --> num_lines , dims :  (400000, 50)\n"
     ]
    }
   ],
   "source": [
    "word2vec_model = build_glove_word2vec()"
   ]
  },
  {
   "cell_type": "code",
   "execution_count": 14,
   "metadata": {},
   "outputs": [
    {
     "name": "stdout",
     "output_type": "stream",
     "text": [
      "words similar to \"iran\":\n",
      " [('tehran', 0.8854164481163025), ('syria', 0.8548012971878052), ('iranian', 0.8462818264961243), ('nuclear', 0.8353855013847351), ('korea', 0.8068287968635559), ('pyongyang', 0.8059216141700745), ('iraq', 0.795691728591919), ('arabia', 0.768294095993042), ('libya', 0.7636364102363586), ('pakistan', 0.7614778876304626)]\n",
      "\n",
      "similarity between cat , dog vectors:  0.92180055\n",
      "\n",
      "embedding vector for word \"unk\":\n",
      " [-7.9149e-01  8.6617e-01  1.1998e-01  9.2287e-04  2.7760e-01 -4.9185e-01\n",
      "  5.0195e-01  6.0792e-04 -2.5845e-01  1.7865e-01  2.5350e-01  7.6572e-01\n",
      "  5.0664e-01  4.0250e-01 -2.1388e-03 -2.8397e-01 -5.0324e-01  3.0449e-01\n",
      "  5.1779e-01  1.5090e-02 -3.5031e-01 -1.1278e+00  3.3253e-01 -3.5250e-01\n",
      "  4.1326e-02  1.0863e+00  3.3910e-02  3.3564e-01  4.9745e-01 -7.0131e-02\n",
      " -1.2192e+00 -4.8512e-01 -3.8512e-02 -1.3554e-01 -1.6380e-01  5.2321e-01\n",
      " -3.1318e-01 -1.6550e-01  1.1909e-01 -1.5115e-01 -1.5621e-01 -6.2655e-01\n",
      " -6.2336e-01 -4.2150e-01  4.1873e-01 -9.2472e-01  1.1049e+00 -2.9996e-01\n",
      " -6.3003e-03  3.9540e-01]\n"
     ]
    }
   ],
   "source": [
    "print(\"words similar to \\\"iran\\\":\\n\",word2vec_model.most_similar(positive=['iran'], topn=10))\n",
    "print(\"\\nsimilarity between cat , dog vectors: \" , word2vec_model.similarity('cat', 'dog'))\n",
    "print(\"\\nembedding vector for word \\\"unk\\\":\\n\", word2vec_model.get_vector(\"unk\"))"
   ]
  },
  {
   "cell_type": "code",
   "execution_count": 15,
   "metadata": {},
   "outputs": [],
   "source": [
    "def build_encoder(all_tokens):\n",
    "    from sklearn.preprocessing import LabelEncoder\n",
    "    from sklearn.preprocessing import OneHotEncoder\n",
    "\n",
    "    label_encoder = LabelEncoder()\n",
    "    integer_encoded = label_encoder.fit_transform(all_tokens)\n",
    "    #vocab_size = len(label_encoder.classes_)\n",
    "    #print(\"vocab_size: \", vocab_size)\n",
    "\n",
    "    # binary encode\n",
    "    integer_encoded = integer_encoded.reshape(len(integer_encoded), 1)\n",
    "\n",
    "    onehot_encoder = OneHotEncoder(sparse=False, dtype='uint8')\n",
    "    onehot_encoded = onehot_encoder.fit_transform(integer_encoded)\n",
    "    \n",
    "    return label_encoder, onehot_encoder\n"
   ]
  },
  {
   "cell_type": "code",
   "execution_count": 16,
   "metadata": {},
   "outputs": [
    {
     "name": "stdout",
     "output_type": "stream",
     "text": [
      "vocab_size:  57500\n",
      "invert of code 4:  ['aa']\n",
      "transform of word \"the\" to code:  [51144]\n",
      "one-hot vector of word \"the\":  [0 0 0 ... 0 0 0]\n"
     ]
    }
   ],
   "source": [
    "label_encoder, onehot_encoder = build_encoder(all_tokens)\n",
    "\n",
    "vocab_size = len(label_encoder.classes_)\n",
    "print(\"vocab_size: \", vocab_size)\n",
    "\n",
    "# invert first example\n",
    "print(\"invert of code 4: \", label_encoder.inverse_transform([4]))\n",
    "print(\"transform of word \\\"the\\\" to code: \", label_encoder.transform([\"the\"]))\n",
    "d = onehot_encoder.transform([label_encoder.transform([\"the\"])])\n",
    "print(\"one-hot vector of word \\\"the\\\": \", d[0])"
   ]
  },
  {
   "cell_type": "code",
   "execution_count": 17,
   "metadata": {},
   "outputs": [],
   "source": [
    "def generate_file_ngram_X_Y(onehot_encoder, label_encoder, tokenized_word_sents, file_name):\n",
    "    file_data = open(file_name, \"ab\")    \n",
    "    count = 0\n",
    "    countError = 0\n",
    "    for sentence in tokenized_word_sents:    \n",
    "        #s_padded = pad_sequence(sentence,pad_left=True,left_pad_symbol=\"<s>\",pad_right=True,right_pad_symbol=\"</s>\",n=2)\n",
    "        for w1, w2, w3, w4, w5 in ngrams(sentence, pad_right=True, pad_left=True,n=5):\n",
    "            count += 1\n",
    "            #print(w1, w2, w3, w4, w5)\n",
    "            try:\n",
    "                v1 = list(word2vec_model.get_vector(str(w1).lower()))\n",
    "                v2 = list(word2vec_model.get_vector(str(w2).lower()))\n",
    "                v3 = list(word2vec_model.get_vector(str(w3).lower()))\n",
    "                v4 = list(word2vec_model.get_vector(str(w4).lower()))\n",
    "                y_word = str(w5).lower()\n",
    "                index_y_word = [label_encoder.transform([y_word])]\n",
    "                np.savetxt(file_data, [v1+v2+v3+v4+index_y_word], fmt=\"%2.6f\",delimiter=\",\")\n",
    "            except:\n",
    "                #print('Error during get vector for:{} {} {} {} {}'.format(w1, w2, w3, w4, w5))\n",
    "                countError+=1\n",
    "                pass\n",
    "    print(\"count of 5-grams={}\".format(count))        \n",
    "    print(\"count on unknown 5-grams={}\".format(countError)) \n",
    "    file_data.close()\n",
    "    return"
   ]
  },
  {
   "cell_type": "code",
   "execution_count": 18,
   "metadata": {},
   "outputs": [],
   "source": [
    "#generate_file_ngram_X_Y(onehot_encoder, label_encoder, tokenized_word_sents, \"train_5gram_vectors.csv\")"
   ]
  },
  {
   "cell_type": "code",
   "execution_count": 19,
   "metadata": {},
   "outputs": [
    {
     "name": "stdout",
     "output_type": "stream",
     "text": [
      "\n",
      "len of w1,w2,w3,w4,w5 vectors:\n",
      "50 50 50 50 494.0\n",
      "[array([ 0.17428 , -0.6233  , -0.44818 ,  0.60294 , -0.94306 , -1.0494  ,\n",
      "        0.92046 ,  0.19768 ,  0.12662 , -0.52371 ,  0.35727 , -0.31895 ,\n",
      "       -0.14491 , -1.8892  ,  0.10333 , -0.32712 , -0.64275 ,  0.28799 ,\n",
      "       -0.17667 ,  0.32841 , -0.29234 , -0.75986 , -0.41077 , -0.3366  ,\n",
      "        0.025411, -0.24726 ,  0.14494 ,  0.45001 , -0.31575 , -0.16851 ,\n",
      "       -1.0089  , -0.083239, -0.17766 , -0.49297 , -0.19273 ,  0.22679 ,\n",
      "       -1.1536  ,  0.77109 , -0.061446,  0.081545,  0.33615 ,  0.64235 ,\n",
      "        0.63767 , -1.3452  , -0.44798 , -0.681   ,  0.98865 , -0.64553 ,\n",
      "        0.66982 , -0.16452 ])]\n",
      "X --> w1: [('belfort', 0.9999999403953552)]\n",
      "X --> w2: [('and', 0.9999998807907104)]\n",
      "X --> w3: [('at', 1.0)]\n",
      "X --> w4: [('the', 1.0)]\n",
      "Y --> w5:  ['activities']\n",
      "494\n"
     ]
    }
   ],
   "source": [
    "some_data = np.loadtxt('train_5gram_nopad_vectors.csv',delimiter=',',skiprows=100000,max_rows=20)\n",
    "\n",
    "example = some_data[4]\n",
    "\n",
    "tmp_X_w1=example[:50]\n",
    "tmp_X_w2=example[50:100]\n",
    "tmp_X_w3=example[100:150]\n",
    "tmp_X_w4=example[150:200]\n",
    "tmp_Y = example[200]\n",
    "print(\"\\nlen of w1,w2,w3,w4,w5 vectors:\")\n",
    "print(len(tmp_X_w1),len(tmp_X_w2),len(tmp_X_w3),len(tmp_X_w4),tmp_Y)\n",
    "print([tmp_X_w1])\n",
    "print (\"X --> w1:\", word2vec_model.most_similar(positive=[tmp_X_w1], topn=1))\n",
    "print (\"X --> w2:\", word2vec_model.most_similar(positive=[tmp_X_w2], topn=1))\n",
    "print (\"X --> w3:\", word2vec_model.most_similar(positive=[tmp_X_w3], topn=1))\n",
    "print (\"X --> w4:\", word2vec_model.most_similar(positive=[tmp_X_w4], topn=1))\n",
    "print (\"Y --> w5: \", label_encoder.inverse_transform([[int(tmp_Y)]]))\n",
    "\n",
    "y1=np.array([int(tmp_Y)])\n",
    "d = onehot_encoder.transform(y1.reshape(-1, 1))\n",
    "one_hot_y = list(d[0])\n",
    "print(np.argmax(one_hot_y))\n",
    "#print(one_hot_y)"
   ]
  },
  {
   "cell_type": "code",
   "execution_count": 20,
   "metadata": {},
   "outputs": [],
   "source": [
    "train_data = np.loadtxt('train_5gram_nopad_vectors.csv', delimiter=',')"
   ]
  },
  {
   "cell_type": "code",
   "execution_count": 21,
   "metadata": {},
   "outputs": [
    {
     "name": "stdout",
     "output_type": "stream",
     "text": [
      "641293\n"
     ]
    }
   ],
   "source": [
    "num_train_5grams = len(train_data)\n",
    "print(num_train_5grams)"
   ]
  },
  {
   "cell_type": "code",
   "execution_count": 22,
   "metadata": {},
   "outputs": [],
   "source": [
    "test_data = np.loadtxt('test_5gram_nopad_vectors.csv', delimiter=',')"
   ]
  },
  {
   "cell_type": "code",
   "execution_count": 23,
   "metadata": {},
   "outputs": [
    {
     "name": "stdout",
     "output_type": "stream",
     "text": [
      "22143\n"
     ]
    }
   ],
   "source": [
    "num_test_5grams = len(test_data)\n",
    "print(num_test_5grams)"
   ]
  },
  {
   "cell_type": "code",
   "execution_count": 24,
   "metadata": {},
   "outputs": [],
   "source": [
    "#print(history.history['val_perplexity'])\n",
    "def perplexity(y_true, y_pred):\n",
    "    cross_entropy = losses.categorical_crossentropy(y_true, y_pred)\n",
    "    perplexity = backend.pow(2.0, cross_entropy)\n",
    "    return perplexity"
   ]
  },
  {
   "cell_type": "code",
   "execution_count": 25,
   "metadata": {},
   "outputs": [],
   "source": [
    "from tensorflow.keras.optimizers import SGD\n",
    "\n",
    "def build_model(input_dim, vocab_size, hidden_units, learning_rate):\n",
    "    model = Sequential()\n",
    "    model.add(Dense(hidden_units, input_dim=input_dim, activation='sigmoid'))\n",
    "    model.add(Dense(vocab_size, activation='softmax'))\n",
    "    sgd = SGD(lr=learning_rate, momentum=0., decay=0., nesterov=False)\n",
    "    model.compile(loss='categorical_crossentropy', optimizer=sgd, metrics=[perplexity])\n",
    "    return model"
   ]
  },
  {
   "cell_type": "code",
   "execution_count": 26,
   "metadata": {},
   "outputs": [],
   "source": [
    "class ReportCallback(callbacks.Callback):\n",
    "\n",
    "    def on_epoch_end(self, epoch, logs={}):\n",
    "        print(\"Epoch {}: perplexity={}, loss={}, val_perplexity={}, val_loss={},\".format(\n",
    "                epoch, logs[\"perplexity\"], logs[\"loss\"], logs[\"val_perplexity\"], logs[\"val_loss\"]))"
   ]
  },
  {
   "cell_type": "code",
   "execution_count": 27,
   "metadata": {},
   "outputs": [],
   "source": [
    "import random \n",
    "def generator_batch (input_size, vocab_size, ngrams_data, batch_size, num_data):\n",
    "    batch_features = np.zeros((batch_size, input_size))\n",
    "    batch_labels = np.zeros((batch_size,vocab_size))        \n",
    "    while True:\n",
    "        index = random.randrange(num_data-batch_size-1)\n",
    "        #selected_data = np.loadtxt(csv_filename, delimiter=',', skiprows=index, max_rows=batch_size)\n",
    "        selected_data = ngrams_data[index:index+batch_size]\n",
    "        for i in range(len(selected_data)):\n",
    "            batch_features[i] = selected_data[i][:input_size]\n",
    "            y1= np.array([int(selected_data[i][input_size])])\n",
    "            d = onehot_encoder.transform(y1.reshape(-1, 1))\n",
    "            batch_labels[i] = list(d[0])                       \n",
    "        \n",
    "        yield batch_features, batch_labels   "
   ]
  },
  {
   "cell_type": "code",
   "execution_count": 28,
   "metadata": {},
   "outputs": [
    {
     "name": "stdout",
     "output_type": "stream",
     "text": [
      "num_train_5grams: 641293\n",
      "num_test_5grams: 22143\n",
      "input_size: 200\n",
      "vocab_size: 57500\n",
      "steps_per_epoch: 20040\n",
      "validation_steps: 691\n"
     ]
    }
   ],
   "source": [
    "print(\"num_train_5grams:\", num_train_5grams)\n",
    "print(\"num_test_5grams:\", num_test_5grams)\n",
    "input_size = len(train_data[0])-1\n",
    "print(\"input_size:\", input_size)\n",
    "print(\"vocab_size:\", vocab_size)\n",
    "batch_size = 32\n",
    "steps_per_epoch = int(num_train_5grams/batch_size)\n",
    "validation_steps = int(num_test_5grams/batch_size)\n",
    "print(\"steps_per_epoch:\", steps_per_epoch)\n",
    "print(\"validation_steps:\", validation_steps)"
   ]
  },
  {
   "cell_type": "code",
   "execution_count": 29,
   "metadata": {},
   "outputs": [
    {
     "name": "stdout",
     "output_type": "stream",
     "text": [
      "_________________________________________________________________\n",
      "Layer (type)                 Output Shape              Param #   \n",
      "=================================================================\n",
      "dense (Dense)                (None, 100)               20100     \n",
      "_________________________________________________________________\n",
      "dense_1 (Dense)              (None, 57500)             5807500   \n",
      "=================================================================\n",
      "Total params: 5,827,600\n",
      "Trainable params: 5,827,600\n",
      "Non-trainable params: 0\n",
      "_________________________________________________________________\n"
     ]
    }
   ],
   "source": [
    "model = build_model(input_size, vocab_size,hidden_units=100, learning_rate=0.02)\n",
    "model.summary()"
   ]
  },
  {
   "cell_type": "code",
   "execution_count": 30,
   "metadata": {},
   "outputs": [],
   "source": [
    "def train_model(model, model_filepath, pretrained_weights, epoch_num):\n",
    "    if (pretrained_weights == True):\n",
    "        model.load_weights(model_filepath)\n",
    "    #--------------------------------------\n",
    "    checkpointer = ModelCheckpoint(model_filepath, monitor='val_perplexity', verbose=1, save_best_only=True, mode='min')\n",
    "\n",
    "    metrics = model.fit_generator(generator_batch(input_size, vocab_size, train_data, batch_size, num_train_5grams), \n",
    "                              steps_per_epoch=1000, \n",
    "                              validation_data=generator_batch(input_size, vocab_size, test_data, batch_size, num_test_5grams), \n",
    "                              validation_steps=30, \n",
    "                              epochs=epoch_num, verbose=0, callbacks=[ReportCallback(),checkpointer], workers=10,shuffle=True)    \n",
    "    return metrics"
   ]
  },
  {
   "cell_type": "code",
   "execution_count": 31,
   "metadata": {},
   "outputs": [
    {
     "name": "stdout",
     "output_type": "stream",
     "text": [
      "Epoch 0: perplexity=1472.150744934082, loss=9.302834557533265, val_perplexity=1490.6123779296875, val_loss=8.95829823811849,\n",
      "\n",
      "Epoch 00001: val_perplexity improved from inf to 1490.61238, saving model to model_lm_5w_100n_lr_02_glove.hdf5\n",
      "Epoch 1: perplexity=1356.0300849609375, loss=8.489864208221436, val_perplexity=1410.8836547851563, val_loss=8.706092151006063,\n",
      "\n",
      "Epoch 00002: val_perplexity improved from 1490.61238 to 1410.88365, saving model to model_lm_5w_100n_lr_02_glove.hdf5\n",
      "Epoch 2: perplexity=1279.1088541870117, loss=8.245824823856355, val_perplexity=1268.1191874186197, val_loss=8.409646685918172,\n",
      "\n",
      "Epoch 00003: val_perplexity improved from 1410.88365 to 1268.11919, saving model to model_lm_5w_100n_lr_02_glove.hdf5\n",
      "Epoch 3: perplexity=1215.7940739135743, loss=8.065122240543365, val_perplexity=1249.4323669433593, val_loss=8.23073541323344,\n",
      "\n",
      "Epoch 00004: val_perplexity improved from 1268.11919 to 1249.43237, saving model to model_lm_5w_100n_lr_02_glove.hdf5\n",
      "Epoch 4: perplexity=1211.4032041015626, loss=7.9995842494964595, val_perplexity=1238.2370707194011, val_loss=8.38948106765747,\n",
      "\n",
      "Epoch 00005: val_perplexity improved from 1249.43237 to 1238.23707, saving model to model_lm_5w_100n_lr_02_glove.hdf5\n",
      "Epoch 5: perplexity=1171.8670888977051, loss=7.902045614242554, val_perplexity=1178.0571004231772, val_loss=8.19535787900289,\n",
      "\n",
      "Epoch 00006: val_perplexity improved from 1238.23707 to 1178.05710, saving model to model_lm_5w_100n_lr_02_glove.hdf5\n",
      "Epoch 6: perplexity=1166.8882536315919, loss=7.883651093959808, val_perplexity=1181.5250508626302, val_loss=8.263086700439453,\n",
      "\n",
      "Epoch 00007: val_perplexity did not improve from 1178.05710\n",
      "Epoch 7: perplexity=1147.738648590088, loss=7.805049317836762, val_perplexity=1029.049298095703, val_loss=8.071699857711792,\n",
      "\n",
      "Epoch 00008: val_perplexity improved from 1178.05710 to 1029.04930, saving model to model_lm_5w_100n_lr_02_glove.hdf5\n",
      "Epoch 8: perplexity=1118.1771938781737, loss=7.752085584163666, val_perplexity=1020.6894083658855, val_loss=7.979988527297974,\n",
      "\n",
      "Epoch 00009: val_perplexity improved from 1029.04930 to 1020.68941, saving model to model_lm_5w_100n_lr_02_glove.hdf5\n",
      "Epoch 9: perplexity=1126.6324672851563, loss=7.741710257053375, val_perplexity=1043.0943155924479, val_loss=8.038529062271119,\n",
      "\n",
      "Epoch 00010: val_perplexity did not improve from 1020.68941\n",
      "Epoch 10: perplexity=1103.8866639709472, loss=7.693659569263458, val_perplexity=966.8952718098958, val_loss=7.8734195550282795,\n",
      "\n",
      "Epoch 00011: val_perplexity improved from 1020.68941 to 966.89527, saving model to model_lm_5w_100n_lr_02_glove.hdf5\n",
      "Epoch 11: perplexity=1104.4896457824707, loss=7.682157757759094, val_perplexity=934.9468566894532, val_loss=7.787357695897421,\n",
      "\n",
      "Epoch 00012: val_perplexity improved from 966.89527 to 934.94686, saving model to model_lm_5w_100n_lr_02_glove.hdf5\n",
      "Epoch 12: perplexity=1101.9385693969728, loss=7.651304807662964, val_perplexity=883.6495697021485, val_loss=7.647484254837036,\n",
      "\n",
      "Epoch 00013: val_perplexity improved from 934.94686 to 883.64957, saving model to model_lm_5w_100n_lr_02_glove.hdf5\n",
      "Epoch 13: perplexity=1115.4299800720214, loss=7.650159873962402, val_perplexity=874.8367777506511, val_loss=7.698530149459839,\n",
      "\n",
      "Epoch 00014: val_perplexity improved from 883.64957 to 874.83678, saving model to model_lm_5w_100n_lr_02_glove.hdf5\n",
      "Epoch 14: perplexity=1101.3901695251466, loss=7.648509763240814, val_perplexity=934.1267578125, val_loss=7.695267550150553,\n",
      "\n",
      "Epoch 00015: val_perplexity did not improve from 874.83678\n",
      "Epoch 15: perplexity=1093.217454208374, loss=7.6031594047546385, val_perplexity=861.3668375651042, val_loss=7.571076933542887,\n",
      "\n",
      "Epoch 00016: val_perplexity improved from 874.83678 to 861.36684, saving model to model_lm_5w_100n_lr_02_glove.hdf5\n",
      "Epoch 16: perplexity=1115.4138939056397, loss=7.634947056293488, val_perplexity=919.7058634440104, val_loss=7.705958477656046,\n",
      "\n",
      "Epoch 00017: val_perplexity did not improve from 861.36684\n",
      "Epoch 17: perplexity=1094.3297446899414, loss=7.57722569847107, val_perplexity=921.4161315917969, val_loss=7.748048543930054,\n",
      "\n",
      "Epoch 00018: val_perplexity did not improve from 861.36684\n",
      "Epoch 18: perplexity=1104.9244752960205, loss=7.6054631943702695, val_perplexity=884.4253143310547, val_loss=7.738946612675985,\n",
      "\n",
      "Epoch 00019: val_perplexity did not improve from 861.36684\n",
      "Epoch 19: perplexity=1096.7463483276367, loss=7.5738082447052, val_perplexity=947.6997538248698, val_loss=7.5676502386728925,\n",
      "\n",
      "Epoch 00020: val_perplexity did not improve from 861.36684\n",
      "Epoch 20: perplexity=1070.4634953460693, loss=7.543920157909393, val_perplexity=857.5958719889323, val_loss=7.699037647247314,\n",
      "\n",
      "Epoch 00021: val_perplexity improved from 861.36684 to 857.59587, saving model to model_lm_5w_100n_lr_02_glove.hdf5\n",
      "Epoch 21: perplexity=1065.5409923553466, loss=7.515570099830628, val_perplexity=837.6772328694661, val_loss=7.603397448857625,\n",
      "\n",
      "Epoch 00022: val_perplexity improved from 857.59587 to 837.67723, saving model to model_lm_5w_100n_lr_02_glove.hdf5\n",
      "Epoch 22: perplexity=1092.1663356323243, loss=7.556792409420013, val_perplexity=880.2798767089844, val_loss=7.605861314137777,\n",
      "\n",
      "Epoch 00023: val_perplexity did not improve from 837.67723\n",
      "Epoch 23: perplexity=1070.840605621338, loss=7.463011830806733, val_perplexity=915.3414733886718, val_loss=7.67084698677063,\n",
      "\n",
      "Epoch 00024: val_perplexity did not improve from 837.67723\n",
      "Epoch 24: perplexity=1105.5361333312987, loss=7.5348115863800045, val_perplexity=807.8172098795573, val_loss=7.515604734420776,\n",
      "\n",
      "Epoch 00025: val_perplexity improved from 837.67723 to 807.81721, saving model to model_lm_5w_100n_lr_02_glove.hdf5\n"
     ]
    }
   ],
   "source": [
    "model_filepath = 'model_lm_5w_100n_lr_02_glove.hdf5'\n",
    "metrics = train_model(model, model_filepath, pretrained_weights=False, epoch_num=25)"
   ]
  },
  {
   "cell_type": "code",
   "execution_count": 32,
   "metadata": {},
   "outputs": [
    {
     "data": {
      "text/plain": [
       "<matplotlib.axes._subplots.AxesSubplot at 0x296907aeac8>"
      ]
     },
     "execution_count": 32,
     "metadata": {},
     "output_type": "execute_result"
    },
    {
     "data": {
      "image/png": "[encoded data removed]",
      "text/plain": [
       "<Figure size 432x288 with 2 Axes>"
      ]
     },
     "metadata": {
      "needs_background": "light"
     },
     "output_type": "display_data"
    }
   ],
   "source": [
    "result = pd.DataFrame.from_dict(metrics.history)\n",
    "result.plot.line(secondary_y=[\"loss\", \"val_loss\"])"
   ]
  },
  {
   "cell_type": "code",
   "execution_count": 33,
   "metadata": {},
   "outputs": [],
   "source": [
    "perp_trfile = open('perp_train_lm_5w_100n_lr_02_glove.csv', \"ab\")    \n",
    "np.savetxt(perp_trfile, metrics.history.get('perplexity'), fmt=\"%2.6f\",delimiter=\",\")\n",
    "perp_trfile.close()"
   ]
  },
  {
   "cell_type": "code",
   "execution_count": 34,
   "metadata": {},
   "outputs": [],
   "source": [
    "perp_tsfile = open('perp_test_lm_5w_100n_lr_02_glove.csv', \"ab\")    \n",
    "np.savetxt(perp_tsfile, metrics.history.get('val_perplexity'), fmt=\"%2.6f\",delimiter=\",\")\n",
    "perp_tsfile.close()"
   ]
  },
  {
   "cell_type": "code",
   "execution_count": 1,
   "metadata": {},
   "outputs": [
    {
     "data": {
      "image/png": "[encoded data removed]",
      "text/plain": [
       "<Figure size 432x288 with 1 Axes>"
      ]
     },
     "metadata": {
      "needs_background": "light"
     },
     "output_type": "display_data"
    }
   ],
   "source": [
    "import matplotlib.pyplot as plt\n",
    "import numpy as np\n",
    "\n",
    "train_perp = np.loadtxt('perp_train_lm_5w_100n_lr_02_glove.csv', delimiter=',')\n",
    "test_perp = np.loadtxt('perp_test_lm_5w_100n_lr_02_glove.csv', delimiter=',')\n",
    "\n",
    "x1 = np.array(range(len(train_perp)))\n",
    "x2 = np.array(range(len(test_perp)))\n",
    "\n",
    "# plot the data\n",
    "fig = plt.figure()\n",
    "ax = fig.add_subplot(1, 1, 1)\n",
    "ax.plot(x1, train_perp, color='tab:blue', label='Perplexity')\n",
    "ax.plot(x2, test_perp, color='tab:orange', label='val_Perplexity')\n",
    "\n",
    "ax.set_title(\"Evaluate Perplexity\")\n",
    "ax.set_xlabel('Epoch')\n",
    "ax.set_ylabel('Perplexity')\n",
    "plt.legend(loc=\"upper right\")\n",
    "plt.show()\n"
   ]
  },
  {
   "cell_type": "code",
   "execution_count": null,
   "metadata": {},
   "outputs": [],
   "source": []
  }
 ],
 "metadata": {
  "kernelspec": {
   "display_name": "Python 3",
   "language": "python",
   "name": "python3"
  },
  "language_info": {
   "codemirror_mode": {
    "name": "ipython",
    "version": 3
   },
   "file_extension": ".py",
   "mimetype": "text/x-python",
   "name": "python",
   "nbconvert_exporter": "python",
   "pygments_lexer": "ipython3",
   "version": "3.6.10"
  }
 },
 "nbformat": 4,
 "nbformat_minor": 2
}
