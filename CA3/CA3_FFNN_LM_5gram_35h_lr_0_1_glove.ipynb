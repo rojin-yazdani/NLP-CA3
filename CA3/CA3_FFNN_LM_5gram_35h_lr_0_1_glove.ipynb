{
 "cells": [
  {
   "cell_type": "code",
   "execution_count": 1,
   "metadata": {},
   "outputs": [],
   "source": [
    "import warnings; warnings.simplefilter('ignore')"
   ]
  },
  {
   "cell_type": "code",
   "execution_count": 2,
   "metadata": {},
   "outputs": [],
   "source": [
    "import pandas as pd \n",
    "import numpy as np \n",
    "import re,string\n",
    "from bs4 import BeautifulSoup"
   ]
  },
  {
   "cell_type": "code",
   "execution_count": 3,
   "metadata": {},
   "outputs": [],
   "source": [
    "from nltk import sent_tokenize, word_tokenize\n",
    "from nltk import bigrams, trigrams\n",
    "from nltk import WordNetLemmatizer\n",
    "\n",
    "from nltk.util import ngrams, pad_sequence\n",
    "from collections import Counter, defaultdict\n",
    "from nltk.corpus import stopwords"
   ]
  },
  {
   "cell_type": "code",
   "execution_count": 4,
   "metadata": {},
   "outputs": [],
   "source": [
    "from tensorflow.keras.callbacks import ModelCheckpoint\n",
    "from tensorflow.keras.preprocessing.text import Tokenizer\n",
    "\n",
    "from tensorflow.keras.utils import to_categorical\n",
    "from tensorflow.keras.layers import Dense, Dropout\n",
    "from tensorflow.keras.models import Sequential, load_model\n",
    "from tensorflow.keras import losses\n",
    "from tensorflow.keras import backend\n",
    "from tensorflow.keras import callbacks"
   ]
  },
  {
   "cell_type": "code",
   "execution_count": 5,
   "metadata": {},
   "outputs": [],
   "source": [
    "ftrain=open(\"train.txt\", \"r\",encoding=\"utf-8\")\n",
    "text_raw = ftrain.read()"
   ]
  },
  {
   "cell_type": "code",
   "execution_count": 6,
   "metadata": {},
   "outputs": [
    {
     "data": {
      "text/plain": [
       "5034054"
      ]
     },
     "execution_count": 6,
     "metadata": {},
     "output_type": "execute_result"
    }
   ],
   "source": [
    "len(text_raw)"
   ]
  },
  {
   "cell_type": "code",
   "execution_count": 7,
   "metadata": {},
   "outputs": [],
   "source": [
    "#text_raw = text_raw[:200000]"
   ]
  },
  {
   "cell_type": "code",
   "execution_count": 8,
   "metadata": {},
   "outputs": [],
   "source": [
    "def prepare_text(text_raw):\n",
    "    text = text_raw\n",
    "    # replace \\n characters with space\n",
    "    text=re.sub('\\n',' ',text)\n",
    "    # remove html tags\n",
    "    soup = BeautifulSoup(text, \"html.parser\")\n",
    "    text = soup.get_text()  \n",
    "    # convert to lower case\n",
    "    text = text.lower()\n",
    "\n",
    "    text_sents = sent_tokenize(text)\n",
    "\n",
    "    all_tokens = []\n",
    "    text_sents_cleaned = []\n",
    "    tokenized_word_sents = []\n",
    "    for s in text_sents:\n",
    "        s_cleaned = re.sub(\"[^a-zA-Z]\", \" \", s)\n",
    "        s_words = word_tokenize(s_cleaned)\n",
    "        for t in s_words:\n",
    "            all_tokens.append(t)\n",
    "        if(len(s_words) > 0):\n",
    "            text_sents_cleaned.append(s_cleaned)\n",
    "            tokenized_word_sents.append(s_words)\n",
    "\n",
    "    all_tokens.append('none')\n",
    "    all_tokens.append('None')\n",
    "    all_tokens.append('<s>')\n",
    "    all_tokens.append('</s>')\n",
    "\n",
    "    print(\"len of all sentences: \",len(tokenized_word_sents))\n",
    "    print(\"len of all tokens: \",len(all_tokens))\n",
    "    return all_tokens, text_sents_cleaned, tokenized_word_sents"
   ]
  },
  {
   "cell_type": "code",
   "execution_count": 9,
   "metadata": {},
   "outputs": [
    {
     "name": "stdout",
     "output_type": "stream",
     "text": [
      "len of all sentences:  42801\n",
      "len of all tokens:  839510\n"
     ]
    }
   ],
   "source": [
    "all_tokens, text_sents_cleaned, tokenized_word_sents = prepare_text(text_raw)"
   ]
  },
  {
   "cell_type": "code",
   "execution_count": 10,
   "metadata": {},
   "outputs": [
    {
     "name": "stdout",
     "output_type": "stream",
     "text": [
      "first sentence:\n",
      " many are the hours in which i have pondered upon the story that is set forth in the following pages \n",
      "\n",
      "words of first sentence:\n",
      " ['many', 'are', 'the', 'hours', 'in', 'which', 'i', 'have', 'pondered', 'upon', 'the', 'story', 'that', 'is', 'set', 'forth', 'in', 'the', 'following', 'pages']\n",
      "\n",
      "padded words of first sentence:\n",
      " ['<s>', 'many', 'are', 'the', 'hours', 'in', 'which', 'i', 'have', 'pondered', 'upon', 'the', 'story', 'that', 'is', 'set', 'forth', 'in', 'the', 'following', 'pages', '</s>']\n"
     ]
    }
   ],
   "source": [
    "# sample sentence\n",
    "\n",
    "print(\"first sentence:\\n\" , text_sents_cleaned[0])\n",
    "s_words = word_tokenize(text_sents_cleaned[0])\n",
    "print(\"\\nwords of first sentence:\\n\" , s_words)\n",
    "s_padded = pad_sequence(s_words,pad_left=True,left_pad_symbol=\"<s>\",pad_right=True,right_pad_symbol=\"</s>\",n=2)\n",
    "print(\"\\npadded words of first sentence:\\n\" , list(s_padded))\n"
   ]
  },
  {
   "cell_type": "code",
   "execution_count": 11,
   "metadata": {},
   "outputs": [],
   "source": [
    "def build_glove_word2vec():\n",
    "    from gensim.test.utils import datapath, get_tmpfile\n",
    "    from gensim.models import KeyedVectors\n",
    "    from gensim.scripts.glove2word2vec import glove2word2vec\n",
    "\n",
    "    glove_file = datapath('F:\\\\Projects\\\\CA-3\\\\glove.6B.50d.txt')\n",
    "    tmp_file = get_tmpfile('F:\\\\Projects\\\\CA-3\\\\word2vec.txt')\n",
    "\n",
    "    word2vec_shape = glove2word2vec(glove_file, tmp_file)\n",
    "\n",
    "    print(\"word2vec_shape --> num_lines , dims : \" , word2vec_shape)\n",
    "    word2vec_model = KeyedVectors.load_word2vec_format(tmp_file)\n",
    "    return word2vec_model"
   ]
  },
  {
   "cell_type": "code",
   "execution_count": 12,
   "metadata": {},
   "outputs": [
    {
     "name": "stdout",
     "output_type": "stream",
     "text": [
      "word2vec_shape --> num_lines , dims :  (400000, 50)\n"
     ]
    }
   ],
   "source": [
    "word2vec_model = build_glove_word2vec()"
   ]
  },
  {
   "cell_type": "code",
   "execution_count": 13,
   "metadata": {},
   "outputs": [
    {
     "name": "stdout",
     "output_type": "stream",
     "text": [
      "words similar to \"iran\":\n",
      " [('tehran', 0.8854164481163025), ('syria', 0.8548012971878052), ('iranian', 0.8462818264961243), ('nuclear', 0.8353855013847351), ('korea', 0.8068287968635559), ('pyongyang', 0.8059216141700745), ('iraq', 0.795691728591919), ('arabia', 0.768294095993042), ('libya', 0.7636364102363586), ('pakistan', 0.7614778876304626)]\n",
      "\n",
      "similarity between cat , dog vectors:  0.92180055\n",
      "\n",
      "embedding vector for word \"unk\":\n",
      " [-7.9149e-01  8.6617e-01  1.1998e-01  9.2287e-04  2.7760e-01 -4.9185e-01\n",
      "  5.0195e-01  6.0792e-04 -2.5845e-01  1.7865e-01  2.5350e-01  7.6572e-01\n",
      "  5.0664e-01  4.0250e-01 -2.1388e-03 -2.8397e-01 -5.0324e-01  3.0449e-01\n",
      "  5.1779e-01  1.5090e-02 -3.5031e-01 -1.1278e+00  3.3253e-01 -3.5250e-01\n",
      "  4.1326e-02  1.0863e+00  3.3910e-02  3.3564e-01  4.9745e-01 -7.0131e-02\n",
      " -1.2192e+00 -4.8512e-01 -3.8512e-02 -1.3554e-01 -1.6380e-01  5.2321e-01\n",
      " -3.1318e-01 -1.6550e-01  1.1909e-01 -1.5115e-01 -1.5621e-01 -6.2655e-01\n",
      " -6.2336e-01 -4.2150e-01  4.1873e-01 -9.2472e-01  1.1049e+00 -2.9996e-01\n",
      " -6.3003e-03  3.9540e-01]\n"
     ]
    }
   ],
   "source": [
    "print(\"words similar to \\\"iran\\\":\\n\",word2vec_model.most_similar(positive=['iran'], topn=10))\n",
    "print(\"\\nsimilarity between cat , dog vectors: \" , word2vec_model.similarity('cat', 'dog'))\n",
    "print(\"\\nembedding vector for word \\\"unk\\\":\\n\", word2vec_model.get_vector(\"unk\"))"
   ]
  },
  {
   "cell_type": "code",
   "execution_count": 14,
   "metadata": {},
   "outputs": [],
   "source": [
    "def build_encoder(all_tokens):\n",
    "    from sklearn.preprocessing import LabelEncoder\n",
    "    from sklearn.preprocessing import OneHotEncoder\n",
    "\n",
    "    label_encoder = LabelEncoder()\n",
    "    integer_encoded = label_encoder.fit_transform(all_tokens)\n",
    "    #vocab_size = len(label_encoder.classes_)\n",
    "    #print(\"vocab_size: \", vocab_size)\n",
    "\n",
    "    # binary encode\n",
    "    integer_encoded = integer_encoded.reshape(len(integer_encoded), 1)\n",
    "\n",
    "    onehot_encoder = OneHotEncoder(sparse=False, dtype='uint8')\n",
    "    onehot_encoded = onehot_encoder.fit_transform(integer_encoded)\n",
    "    \n",
    "    return label_encoder, onehot_encoder\n"
   ]
  },
  {
   "cell_type": "code",
   "execution_count": 15,
   "metadata": {},
   "outputs": [
    {
     "name": "stdout",
     "output_type": "stream",
     "text": [
      "vocab_size:  57500\n",
      "invert of code 4:  ['aa']\n",
      "transform of word \"the\" to code:  [51144]\n",
      "one-hot vector of word \"the\":  [0 0 0 ... 0 0 0]\n"
     ]
    }
   ],
   "source": [
    "label_encoder, onehot_encoder = build_encoder(all_tokens)\n",
    "\n",
    "vocab_size = len(label_encoder.classes_)\n",
    "print(\"vocab_size: \", vocab_size)\n",
    "\n",
    "# invert first example\n",
    "print(\"invert of code 4: \", label_encoder.inverse_transform([4]))\n",
    "print(\"transform of word \\\"the\\\" to code: \", label_encoder.transform([\"the\"]))\n",
    "d = onehot_encoder.transform([label_encoder.transform([\"the\"])])\n",
    "print(\"one-hot vector of word \\\"the\\\": \", d[0])"
   ]
  },
  {
   "cell_type": "code",
   "execution_count": 16,
   "metadata": {},
   "outputs": [],
   "source": [
    "def generate_file_ngram_X_Y(onehot_encoder, label_encoder, tokenized_word_sents, file_name):\n",
    "    file_data = open(file_name, \"ab\")    \n",
    "    count = 0\n",
    "    countError = 0\n",
    "    for sentence in tokenized_word_sents:    \n",
    "        #s_padded = pad_sequence(sentence,pad_left=True,left_pad_symbol=\"<s>\",pad_right=True,right_pad_symbol=\"</s>\",n=2)\n",
    "        for w1, w2, w3, w4, w5 in ngrams(sentence, pad_right=True, pad_left=True,n=5):\n",
    "            count += 1\n",
    "            #print(w1, w2, w3, w4, w5)\n",
    "            try:\n",
    "                v1 = list(word2vec_model.get_vector(str(w1).lower()))\n",
    "                v2 = list(word2vec_model.get_vector(str(w2).lower()))\n",
    "                v3 = list(word2vec_model.get_vector(str(w3).lower()))\n",
    "                v4 = list(word2vec_model.get_vector(str(w4).lower()))\n",
    "                y_word = str(w5).lower()\n",
    "                index_y_word = [label_encoder.transform([y_word])]\n",
    "                np.savetxt(file_data, [v1+v2+v3+v4+index_y_word], fmt=\"%2.6f\",delimiter=\",\")\n",
    "            except:\n",
    "                #print('Error during get vector for:{} {} {} {} {}'.format(w1, w2, w3, w4, w5))\n",
    "                countError+=1\n",
    "                pass\n",
    "    print(\"count of 5-grams={}\".format(count))        \n",
    "    print(\"count on unknown 5-grams={}\".format(countError)) \n",
    "    file_data.close()\n",
    "    return"
   ]
  },
  {
   "cell_type": "code",
   "execution_count": 182,
   "metadata": {},
   "outputs": [
    {
     "name": "stdout",
     "output_type": "stream",
     "text": [
      "count of 5-grams=1010710\n",
      "count on unknown 5-grams=43619\n"
     ]
    }
   ],
   "source": [
    "#generate_file_ngram_X_Y(onehot_encoder, label_encoder, tokenized_word_sents, \"train_5gram_vectors.csv\")"
   ]
  },
  {
   "cell_type": "code",
   "execution_count": 17,
   "metadata": {},
   "outputs": [
    {
     "name": "stdout",
     "output_type": "stream",
     "text": [
      "\n",
      "len of w1,w2,w3,w4,w5 vectors:\n",
      "50 50 50 50 494.0\n",
      "[array([ 0.17428 , -0.6233  , -0.44818 ,  0.60294 , -0.94306 , -1.0494  ,\n",
      "        0.92046 ,  0.19768 ,  0.12662 , -0.52371 ,  0.35727 , -0.31895 ,\n",
      "       -0.14491 , -1.8892  ,  0.10333 , -0.32712 , -0.64275 ,  0.28799 ,\n",
      "       -0.17667 ,  0.32841 , -0.29234 , -0.75986 , -0.41077 , -0.3366  ,\n",
      "        0.025411, -0.24726 ,  0.14494 ,  0.45001 , -0.31575 , -0.16851 ,\n",
      "       -1.0089  , -0.083239, -0.17766 , -0.49297 , -0.19273 ,  0.22679 ,\n",
      "       -1.1536  ,  0.77109 , -0.061446,  0.081545,  0.33615 ,  0.64235 ,\n",
      "        0.63767 , -1.3452  , -0.44798 , -0.681   ,  0.98865 , -0.64553 ,\n",
      "        0.66982 , -0.16452 ])]\n",
      "X --> w1: [('belfort', 0.9999999403953552)]\n",
      "X --> w2: [('and', 0.9999998807907104)]\n",
      "X --> w3: [('at', 1.0)]\n",
      "X --> w4: [('the', 1.0)]\n",
      "Y --> w5:  ['activities']\n",
      "494\n"
     ]
    },
    {
     "name": "stderr",
     "output_type": "stream",
     "text": [
      "F:\\Program Files\\Anaconda3\\lib\\site-packages\\sklearn\\preprocessing\\_label.py:289: DataConversionWarning: A column-vector y was passed when a 1d array was expected. Please change the shape of y to (n_samples, ), for example using ravel().\n",
      "  y = column_or_1d(y, warn=True)\n"
     ]
    }
   ],
   "source": [
    "some_data = np.loadtxt('train_5gram_nopad_vectors.csv',delimiter=',',skiprows=100000,max_rows=20)\n",
    "\n",
    "example = some_data[4]\n",
    "\n",
    "tmp_X_w1=example[:50]\n",
    "tmp_X_w2=example[50:100]\n",
    "tmp_X_w3=example[100:150]\n",
    "tmp_X_w4=example[150:200]\n",
    "tmp_Y = example[200]\n",
    "print(\"\\nlen of w1,w2,w3,w4,w5 vectors:\")\n",
    "print(len(tmp_X_w1),len(tmp_X_w2),len(tmp_X_w3),len(tmp_X_w4),tmp_Y)\n",
    "print([tmp_X_w1])\n",
    "print (\"X --> w1:\", word2vec_model.most_similar(positive=[tmp_X_w1], topn=1))\n",
    "print (\"X --> w2:\", word2vec_model.most_similar(positive=[tmp_X_w2], topn=1))\n",
    "print (\"X --> w3:\", word2vec_model.most_similar(positive=[tmp_X_w3], topn=1))\n",
    "print (\"X --> w4:\", word2vec_model.most_similar(positive=[tmp_X_w4], topn=1))\n",
    "print (\"Y --> w5: \", label_encoder.inverse_transform([[int(tmp_Y)]]))\n",
    "\n",
    "y1=np.array([int(tmp_Y)])\n",
    "d = onehot_encoder.transform(y1.reshape(-1, 1))\n",
    "one_hot_y = list(d[0])\n",
    "print(np.argmax(one_hot_y))\n",
    "#print(one_hot_y)"
   ]
  },
  {
   "cell_type": "code",
   "execution_count": 18,
   "metadata": {},
   "outputs": [
    {
     "name": "stdout",
     "output_type": "stream",
     "text": [
      "len of all sentences:  992\n",
      "len of all tokens:  20031\n"
     ]
    }
   ],
   "source": [
    "ftest=open(\"test.txt\", \"r\",encoding=\"utf-8\")\n",
    "test_text_raw = ftest.read()\n",
    "test_all_tokens, test_text_sents_cleaned, test_tokenized_word_sents = prepare_text(test_text_raw)"
   ]
  },
  {
   "cell_type": "code",
   "execution_count": 23,
   "metadata": {},
   "outputs": [
    {
     "name": "stdout",
     "output_type": "stream",
     "text": [
      "count of 5-grams=23995\n",
      "count on unknown 5-grams=1852\n"
     ]
    }
   ],
   "source": [
    "#generate_file_ngram_X_Y(onehot_encoder, label_encoder, test_tokenized_word_sents, \"test_5gram_nopad_vectors.csv\")"
   ]
  },
  {
   "cell_type": "code",
   "execution_count": 19,
   "metadata": {},
   "outputs": [],
   "source": [
    "train_data = np.loadtxt('train_5gram_nopad_vectors.csv', delimiter=',')"
   ]
  },
  {
   "cell_type": "code",
   "execution_count": 20,
   "metadata": {},
   "outputs": [
    {
     "name": "stdout",
     "output_type": "stream",
     "text": [
      "641293\n"
     ]
    }
   ],
   "source": [
    "num_train_5grams = len(train_data)\n",
    "print(num_train_5grams)"
   ]
  },
  {
   "cell_type": "code",
   "execution_count": 21,
   "metadata": {},
   "outputs": [],
   "source": [
    "test_data = np.loadtxt('test_5gram_nopad_vectors.csv', delimiter=',')"
   ]
  },
  {
   "cell_type": "code",
   "execution_count": 22,
   "metadata": {},
   "outputs": [
    {
     "name": "stdout",
     "output_type": "stream",
     "text": [
      "22143\n"
     ]
    }
   ],
   "source": [
    "num_test_5grams = len(test_data)\n",
    "print(num_test_5grams)"
   ]
  },
  {
   "cell_type": "code",
   "execution_count": 23,
   "metadata": {},
   "outputs": [],
   "source": [
    "#print(history.history['val_perplexity'])\n",
    "def perplexity(y_true, y_pred):\n",
    "    cross_entropy = losses.categorical_crossentropy(y_true, y_pred)\n",
    "    perplexity = backend.pow(2.0, cross_entropy)\n",
    "    return perplexity"
   ]
  },
  {
   "cell_type": "code",
   "execution_count": 24,
   "metadata": {},
   "outputs": [],
   "source": [
    "from tensorflow.keras.optimizers import SGD\n",
    "\n",
    "def build_model(input_dim, vocab_size, hidden_units, learning_rate):\n",
    "    model = Sequential()\n",
    "    model.add(Dense(hidden_units, input_dim=input_dim, activation='sigmoid'))\n",
    "    model.add(Dense(vocab_size, activation='softmax'))\n",
    "    sgd = SGD(lr=learning_rate, momentum=0., decay=0., nesterov=False)\n",
    "    model.compile(loss='categorical_crossentropy', optimizer=sgd, metrics=[perplexity])\n",
    "    return model"
   ]
  },
  {
   "cell_type": "code",
   "execution_count": 25,
   "metadata": {},
   "outputs": [],
   "source": [
    "class ReportCallback(callbacks.Callback):\n",
    "\n",
    "    def on_epoch_end(self, epoch, logs={}):\n",
    "        print(\"Epoch {}: perplexity={}, loss={}, val_perplexity={}, val_loss={},\".format(\n",
    "                epoch, logs[\"perplexity\"], logs[\"loss\"], logs[\"val_perplexity\"], logs[\"val_loss\"]))"
   ]
  },
  {
   "cell_type": "code",
   "execution_count": 26,
   "metadata": {},
   "outputs": [],
   "source": [
    "import random \n",
    "def generator_batch (input_size, vocab_size, ngrams_data, batch_size, num_data):\n",
    "    batch_features = np.zeros((batch_size, input_size))\n",
    "    batch_labels = np.zeros((batch_size,vocab_size))        \n",
    "    while True:\n",
    "        index = random.randrange(num_data-batch_size-1)\n",
    "        #selected_data = np.loadtxt(csv_filename, delimiter=',', skiprows=index, max_rows=batch_size)\n",
    "        selected_data = ngrams_data[index:index+batch_size]\n",
    "        for i in range(len(selected_data)):\n",
    "            batch_features[i] = selected_data[i][:input_size]\n",
    "            y1= np.array([int(selected_data[i][input_size])])\n",
    "            d = onehot_encoder.transform(y1.reshape(-1, 1))\n",
    "            batch_labels[i] = list(d[0])                       \n",
    "        \n",
    "        yield batch_features, batch_labels   "
   ]
  },
  {
   "cell_type": "code",
   "execution_count": 27,
   "metadata": {},
   "outputs": [
    {
     "name": "stdout",
     "output_type": "stream",
     "text": [
      "num_train_5grams: 641293\n",
      "num_test_5grams: 22143\n",
      "input_size: 200\n",
      "vocab_size: 57500\n",
      "steps_per_epoch: 20040\n",
      "validation_steps: 691\n"
     ]
    }
   ],
   "source": [
    "print(\"num_train_5grams:\", num_train_5grams)\n",
    "print(\"num_test_5grams:\", num_test_5grams)\n",
    "input_size = len(train_data[0])-1\n",
    "print(\"input_size:\", input_size)\n",
    "print(\"vocab_size:\", vocab_size)\n",
    "batch_size = 32\n",
    "steps_per_epoch = int(num_train_5grams/batch_size)\n",
    "validation_steps = int(num_test_5grams/batch_size)\n",
    "print(\"steps_per_epoch:\", steps_per_epoch)\n",
    "print(\"validation_steps:\", validation_steps)"
   ]
  },
  {
   "cell_type": "code",
   "execution_count": 29,
   "metadata": {},
   "outputs": [
    {
     "name": "stdout",
     "output_type": "stream",
     "text": [
      "_________________________________________________________________\n",
      "Layer (type)                 Output Shape              Param #   \n",
      "=================================================================\n",
      "dense_2 (Dense)              (None, 35)                7035      \n",
      "_________________________________________________________________\n",
      "dense_3 (Dense)              (None, 57500)             2070000   \n",
      "=================================================================\n",
      "Total params: 2,077,035\n",
      "Trainable params: 2,077,035\n",
      "Non-trainable params: 0\n",
      "_________________________________________________________________\n"
     ]
    }
   ],
   "source": [
    "model = build_model(input_size, vocab_size,hidden_units=35, learning_rate=0.1)\n",
    "model.summary()"
   ]
  },
  {
   "cell_type": "code",
   "execution_count": 30,
   "metadata": {},
   "outputs": [],
   "source": [
    "def train_model(model, model_filepath, pretrained_weights, epoch_num):\n",
    "    if (pretrained_weights == True):\n",
    "        model.load_weights(model_filepath)\n",
    "    #--------------------------------------\n",
    "    checkpointer = ModelCheckpoint(model_filepath, monitor='val_perplexity', verbose=1, save_best_only=True, mode='min')\n",
    "\n",
    "    metrics = model.fit_generator(generator_batch(input_size, vocab_size, train_data, batch_size, num_train_5grams), \n",
    "                              steps_per_epoch=1000, \n",
    "                              validation_data=generator_batch(input_size, vocab_size, test_data, batch_size, num_test_5grams), \n",
    "                              validation_steps=30, \n",
    "                              epochs=epoch_num, verbose=0, callbacks=[ReportCallback(),checkpointer], workers=10,shuffle=True)    \n",
    "    return metrics"
   ]
  },
  {
   "cell_type": "code",
   "execution_count": 31,
   "metadata": {},
   "outputs": [
    {
     "name": "stdout",
     "output_type": "stream",
     "text": [
      "Epoch 0: perplexity=1368.0967716674804, loss=8.707557379245758, val_perplexity=1381.8966796875, val_loss=8.695091978708904,\n",
      "\n",
      "Epoch 00001: val_perplexity improved from inf to 1381.89668, saving model to model_lm_5w_35n_lr_1_glove.hdf5\n",
      "Epoch 1: perplexity=1225.6431311645508, loss=8.10586768245697, val_perplexity=1098.879697672526, val_loss=8.204596344629923,\n",
      "\n",
      "Epoch 00002: val_perplexity improved from 1381.89668 to 1098.87970, saving model to model_lm_5w_35n_lr_1_glove.hdf5\n",
      "Epoch 2: perplexity=1169.1940805664062, loss=7.9284650392532345, val_perplexity=976.4925944010416, val_loss=7.853456433614095,\n",
      "\n",
      "Epoch 00003: val_perplexity improved from 1098.87970 to 976.49259, saving model to model_lm_5w_35n_lr_1_glove.hdf5\n",
      "Epoch 3: perplexity=1131.793094329834, loss=7.793487594604493, val_perplexity=944.025575764974, val_loss=7.8546632925669355,\n",
      "\n",
      "Epoch 00004: val_perplexity improved from 976.49259 to 944.02558, saving model to model_lm_5w_35n_lr_1_glove.hdf5\n",
      "Epoch 4: perplexity=1133.0009480285644, loss=7.754112458705902, val_perplexity=993.1822123209636, val_loss=7.883503484725952,\n",
      "\n",
      "Epoch 00005: val_perplexity did not improve from 944.02558\n",
      "Epoch 5: perplexity=1108.2536780700684, loss=7.702354926109314, val_perplexity=969.4382446289062, val_loss=7.719032446543376,\n",
      "\n",
      "Epoch 00006: val_perplexity did not improve from 944.02558\n",
      "Epoch 6: perplexity=1111.1959650268554, loss=7.690984296798706, val_perplexity=1014.2053385416667, val_loss=7.877477296193441,\n",
      "\n",
      "Epoch 00007: val_perplexity did not improve from 944.02558\n",
      "Epoch 7: perplexity=1107.587925567627, loss=7.64720567035675, val_perplexity=883.6826904296875, val_loss=7.6831573963165285,\n",
      "\n",
      "Epoch 00008: val_perplexity improved from 944.02558 to 883.68269, saving model to model_lm_5w_35n_lr_1_glove.hdf5\n",
      "Epoch 8: perplexity=1109.6248722076416, loss=7.6724425926208495, val_perplexity=885.4029429117838, val_loss=7.628636868794759,\n",
      "\n",
      "Epoch 00009: val_perplexity did not improve from 883.68269\n",
      "Epoch 9: perplexity=1103.8555461120604, loss=7.642739018440246, val_perplexity=914.3903594970703, val_loss=7.585659678777059,\n",
      "\n",
      "Epoch 00010: val_perplexity did not improve from 883.68269\n",
      "Epoch 10: perplexity=1091.7790705413818, loss=7.608671651363373, val_perplexity=947.366640218099, val_loss=7.816045300165812,\n",
      "\n",
      "Epoch 00011: val_perplexity did not improve from 883.68269\n",
      "Epoch 11: perplexity=1105.8366923065184, loss=7.604075303077698, val_perplexity=828.9345448811849, val_loss=7.537597799301148,\n",
      "\n",
      "Epoch 00012: val_perplexity improved from 883.68269 to 828.93454, saving model to model_lm_5w_35n_lr_1_glove.hdf5\n",
      "Epoch 12: perplexity=1118.1002883605956, loss=7.640485202789306, val_perplexity=938.7786916097006, val_loss=7.705562416712443,\n",
      "\n",
      "Epoch 00013: val_perplexity did not improve from 828.93454\n",
      "Epoch 13: perplexity=1100.1015974121094, loss=7.605693326950073, val_perplexity=815.6866312662761, val_loss=7.528567266464234,\n",
      "\n",
      "Epoch 00014: val_perplexity improved from 828.93454 to 815.68663, saving model to model_lm_5w_35n_lr_1_glove.hdf5\n",
      "Epoch 14: perplexity=1098.576928375244, loss=7.57793497467041, val_perplexity=789.1762095133464, val_loss=7.512320804595947,\n",
      "\n",
      "Epoch 00015: val_perplexity improved from 815.68663 to 789.17621, saving model to model_lm_5w_35n_lr_1_glove.hdf5\n",
      "Epoch 15: perplexity=1112.5478115386964, loss=7.579220986843109, val_perplexity=933.2745402018229, val_loss=7.6837111155192055,\n",
      "\n",
      "Epoch 00016: val_perplexity did not improve from 789.17621\n",
      "Epoch 16: perplexity=1078.855374710083, loss=7.517277309417724, val_perplexity=949.2630625406902, val_loss=7.706318473815918,\n",
      "\n",
      "Epoch 00017: val_perplexity did not improve from 789.17621\n",
      "Epoch 17: perplexity=1088.6003099975585, loss=7.505679487228393, val_perplexity=987.2687235514323, val_loss=7.496477778752645,\n",
      "\n",
      "Epoch 00018: val_perplexity did not improve from 789.17621\n",
      "Epoch 18: perplexity=1111.7832464294434, loss=7.560559592247009, val_perplexity=902.9094848632812, val_loss=7.567730013529459,\n",
      "\n",
      "Epoch 00019: val_perplexity did not improve from 789.17621\n",
      "Epoch 19: perplexity=1111.2463516693115, loss=7.503800866603851, val_perplexity=879.0579528808594, val_loss=7.5264792760213215,\n",
      "\n",
      "Epoch 00020: val_perplexity did not improve from 789.17621\n",
      "Epoch 20: perplexity=1093.032177505493, loss=7.519968728542328, val_perplexity=919.7134755452474, val_loss=7.525472354888916,\n",
      "\n",
      "Epoch 00021: val_perplexity did not improve from 789.17621\n",
      "Epoch 21: perplexity=1108.859487197876, loss=7.513506510734558, val_perplexity=944.4026723225911, val_loss=7.690536562601725,\n",
      "\n",
      "Epoch 00022: val_perplexity did not improve from 789.17621\n",
      "Epoch 22: perplexity=1125.931509841919, loss=7.531131332874298, val_perplexity=989.6860717773437, val_loss=7.636446873346965,\n",
      "\n",
      "Epoch 00023: val_perplexity did not improve from 789.17621\n",
      "Epoch 23: perplexity=1072.0485221710205, loss=7.464959195137024, val_perplexity=891.4167409261067, val_loss=7.554734675089518,\n",
      "\n",
      "Epoch 00024: val_perplexity did not improve from 789.17621\n",
      "Epoch 24: perplexity=1088.7848335723877, loss=7.488539870262146, val_perplexity=928.9002624511719, val_loss=7.623724174499512,\n",
      "\n",
      "Epoch 00025: val_perplexity did not improve from 789.17621\n"
     ]
    }
   ],
   "source": [
    "model_filepath = 'model_lm_5w_35n_lr_1_glove.hdf5'\n",
    "metrics = train_model(model, model_filepath, pretrained_weights=False, epoch_num=25)"
   ]
  },
  {
   "cell_type": "code",
   "execution_count": 32,
   "metadata": {},
   "outputs": [
    {
     "data": {
      "text/plain": [
       "<matplotlib.axes._subplots.AxesSubplot at 0x1c3c924ad30>"
      ]
     },
     "execution_count": 32,
     "metadata": {},
     "output_type": "execute_result"
    },
    {
     "data": {
      "image/png": "[encoded data removed]",
      "text/plain": [
       "<Figure size 432x288 with 2 Axes>"
      ]
     },
     "metadata": {
      "needs_background": "light"
     },
     "output_type": "display_data"
    }
   ],
   "source": [
    "result = pd.DataFrame.from_dict(metrics.history)\n",
    "result.plot.line(secondary_y=[\"loss\", \"val_loss\"])"
   ]
  },
  {
   "cell_type": "code",
   "execution_count": 33,
   "metadata": {},
   "outputs": [],
   "source": [
    "perp_trfile = open('perp_train_lm_5w_35n_lr_1_glove.csv', \"ab\")    \n",
    "np.savetxt(perp_trfile, metrics.history.get('perplexity'), fmt=\"%2.6f\",delimiter=\",\")\n",
    "perp_trfile.close()"
   ]
  },
  {
   "cell_type": "code",
   "execution_count": 34,
   "metadata": {},
   "outputs": [],
   "source": [
    "perp_tsfile = open('perp_test_lm_5w_35n_lr_1_glove.csv', \"ab\")    \n",
    "np.savetxt(perp_tsfile, metrics.history.get('val_perplexity'), fmt=\"%2.6f\",delimiter=\",\")\n",
    "perp_tsfile.close()"
   ]
  },
  {
   "cell_type": "code",
   "execution_count": 5,
   "metadata": {},
   "outputs": [
    {
     "data": {
      "image/png": "[encoded data removed]",
      "text/plain": [
       "<Figure size 432x288 with 1 Axes>"
      ]
     },
     "metadata": {
      "needs_background": "light"
     },
     "output_type": "display_data"
    }
   ],
   "source": [
    "import matplotlib.pyplot as plt\n",
    "import numpy as np\n",
    "\n",
    "train_perp = np.loadtxt('perp_train_lm_5w_35n_lr_1_glove.csv', delimiter=',')\n",
    "test_perp = np.loadtxt('perp_test_lm_5w_35n_lr_1_glove.csv', delimiter=',')\n",
    "\n",
    "x1 = np.array(range(len(train_perp)))\n",
    "x2 = np.array(range(len(test_perp)))\n",
    "\n",
    "# plot the data\n",
    "fig = plt.figure()\n",
    "ax = fig.add_subplot(1, 1, 1)\n",
    "ax.plot(x1, train_perp, color='tab:blue', label='Perplexity')\n",
    "ax.plot(x2, test_perp, color='tab:orange', label='val_Perplexity')\n",
    "\n",
    "ax.set_title(\"Evaluate Perplexity\")\n",
    "ax.set_xlabel('Epoch')\n",
    "ax.set_ylabel('Perplexity')\n",
    "plt.legend(loc=\"upper right\")\n",
    "plt.show()\n"
   ]
  },
  {
   "cell_type": "code",
   "execution_count": null,
   "metadata": {},
   "outputs": [],
   "source": []
  }
 ],
 "metadata": {
  "kernelspec": {
   "display_name": "Python 3",
   "language": "python",
   "name": "python3"
  },
  "language_info": {
   "codemirror_mode": {
    "name": "ipython",
    "version": 3
   },
   "file_extension": ".py",
   "mimetype": "text/x-python",
   "name": "python",
   "nbconvert_exporter": "python",
   "pygments_lexer": "ipython3",
   "version": "3.6.10"
  }
 },
 "nbformat": 4,
 "nbformat_minor": 2
}
