{
 "cells": [
  {
   "cell_type": "code",
   "execution_count": 1,
   "metadata": {},
   "outputs": [],
   "source": [
    "import warnings; warnings.simplefilter('ignore')"
   ]
  },
  {
   "cell_type": "code",
   "execution_count": 2,
   "metadata": {},
   "outputs": [],
   "source": [
    "import pandas as pd \n",
    "import numpy as np \n",
    "import re,string\n",
    "from bs4 import BeautifulSoup"
   ]
  },
  {
   "cell_type": "code",
   "execution_count": 3,
   "metadata": {},
   "outputs": [],
   "source": [
    "from nltk import sent_tokenize, word_tokenize\n",
    "from nltk import bigrams, trigrams\n",
    "from nltk import WordNetLemmatizer\n",
    "\n",
    "from nltk.util import ngrams, pad_sequence\n",
    "from collections import Counter, defaultdict\n",
    "from nltk.corpus import stopwords"
   ]
  },
  {
   "cell_type": "code",
   "execution_count": 4,
   "metadata": {},
   "outputs": [],
   "source": [
    "from tensorflow.keras.callbacks import ModelCheckpoint\n",
    "from tensorflow.keras.preprocessing.text import Tokenizer\n",
    "\n",
    "from tensorflow.keras.utils import to_categorical\n",
    "from tensorflow.keras.layers import Dense, Dropout\n",
    "from tensorflow.keras.models import Sequential, load_model\n",
    "from tensorflow.keras import losses\n",
    "from tensorflow.keras import backend\n",
    "from tensorflow.keras import callbacks"
   ]
  },
  {
   "cell_type": "code",
   "execution_count": 6,
   "metadata": {},
   "outputs": [],
   "source": [
    "ftrain=open(\"train.txt\", \"r\",encoding=\"utf-8\")\n",
    "text_raw = ftrain.read()"
   ]
  },
  {
   "cell_type": "code",
   "execution_count": 7,
   "metadata": {},
   "outputs": [],
   "source": [
    "def prepare_text(text_raw):\n",
    "    text = text_raw\n",
    "    # replace \\n characters with space\n",
    "    text=re.sub('\\n',' ',text)\n",
    "    # remove html tags\n",
    "    soup = BeautifulSoup(text, \"html.parser\")\n",
    "    text = soup.get_text()  \n",
    "    # convert to lower case\n",
    "    text = text.lower()\n",
    "\n",
    "    text_sents = sent_tokenize(text)\n",
    "\n",
    "    all_tokens = []\n",
    "    text_sents_cleaned = []\n",
    "    tokenized_word_sents = []\n",
    "    for s in text_sents:\n",
    "        s_cleaned = re.sub(\"[^a-zA-Z]\", \" \", s)\n",
    "        s_words = word_tokenize(s_cleaned)\n",
    "        for t in s_words:\n",
    "            all_tokens.append(t)\n",
    "        if(len(s_words) > 0):\n",
    "            text_sents_cleaned.append(s_cleaned)\n",
    "            tokenized_word_sents.append(s_words)\n",
    "\n",
    "    all_tokens.append('none')\n",
    "    all_tokens.append('None')\n",
    "    all_tokens.append('<s>')\n",
    "    all_tokens.append('</s>')\n",
    "\n",
    "    print(\"len of all sentences: \",len(tokenized_word_sents))\n",
    "    print(\"len of all tokens: \",len(all_tokens))\n",
    "    return all_tokens, text_sents_cleaned, tokenized_word_sents"
   ]
  },
  {
   "cell_type": "code",
   "execution_count": 8,
   "metadata": {},
   "outputs": [
    {
     "name": "stdout",
     "output_type": "stream",
     "text": [
      "len of all sentences:  42801\n",
      "len of all tokens:  839510\n"
     ]
    }
   ],
   "source": [
    "all_tokens, text_sents_cleaned, tokenized_word_sents = prepare_text(text_raw)"
   ]
  },
  {
   "cell_type": "code",
   "execution_count": 9,
   "metadata": {},
   "outputs": [],
   "source": [
    "def build_glove_word2vec():\n",
    "    from gensim.test.utils import datapath, get_tmpfile\n",
    "    from gensim.models import KeyedVectors\n",
    "    from gensim.scripts.glove2word2vec import glove2word2vec\n",
    "\n",
    "    glove_file = datapath('F:\\\\Projects\\\\CA-3\\\\glove.6B.50d.txt')\n",
    "    tmp_file = get_tmpfile('F:\\\\Projects\\\\CA-3\\\\word2vec.txt')\n",
    "\n",
    "    word2vec_shape = glove2word2vec(glove_file, tmp_file)\n",
    "\n",
    "    print(\"word2vec_shape --> num_lines , dims : \" , word2vec_shape)\n",
    "    word2vec_model = KeyedVectors.load_word2vec_format(tmp_file)\n",
    "    return word2vec_model"
   ]
  },
  {
   "cell_type": "code",
   "execution_count": 10,
   "metadata": {},
   "outputs": [
    {
     "name": "stdout",
     "output_type": "stream",
     "text": [
      "word2vec_shape --> num_lines , dims :  (400000, 50)\n"
     ]
    }
   ],
   "source": [
    "word2vec_model = build_glove_word2vec()"
   ]
  },
  {
   "cell_type": "code",
   "execution_count": 11,
   "metadata": {},
   "outputs": [],
   "source": [
    "def build_encoder(all_tokens):\n",
    "    from sklearn.preprocessing import LabelEncoder\n",
    "    from sklearn.preprocessing import OneHotEncoder\n",
    "\n",
    "    label_encoder = LabelEncoder()\n",
    "    integer_encoded = label_encoder.fit_transform(all_tokens)\n",
    "    #vocab_size = len(label_encoder.classes_)\n",
    "    #print(\"vocab_size: \", vocab_size)\n",
    "\n",
    "    # binary encode\n",
    "    integer_encoded = integer_encoded.reshape(len(integer_encoded), 1)\n",
    "\n",
    "    onehot_encoder = OneHotEncoder(sparse=False, dtype='uint8')\n",
    "    onehot_encoded = onehot_encoder.fit_transform(integer_encoded)\n",
    "    \n",
    "    return label_encoder, onehot_encoder\n"
   ]
  },
  {
   "cell_type": "code",
   "execution_count": 12,
   "metadata": {},
   "outputs": [
    {
     "name": "stdout",
     "output_type": "stream",
     "text": [
      "57500\n"
     ]
    }
   ],
   "source": [
    "label_encoder, onehot_encoder = build_encoder(all_tokens)\n",
    "\n",
    "vocab_size = len(label_encoder.classes_)\n",
    "print(vocab_size)"
   ]
  },
  {
   "cell_type": "code",
   "execution_count": 15,
   "metadata": {},
   "outputs": [],
   "source": [
    "def generate_file_trigram_X_Y(onehot_encoder, label_encoder, tokenized_word_sents, file_name):\n",
    "    file_data = open(file_name, \"ab\")    \n",
    "    count = 0\n",
    "    countError = 0\n",
    "    for sentence in tokenized_word_sents:    \n",
    "        #s_padded = pad_sequence(sentence,pad_left=True,left_pad_symbol=\"<s>\",pad_right=True,right_pad_symbol=\"</s>\",n=2)\n",
    "        for w1, w2, w3 in ngrams(sentence, pad_right=False, pad_left=False, n=3):\n",
    "            count += 1\n",
    "            #print(w1, w2, w3)\n",
    "            try:\n",
    "                v1 = list(word2vec_model.get_vector(str(w1).lower()))\n",
    "                v2 = list(word2vec_model.get_vector(str(w2).lower()))\n",
    "                y_word = str(w3).lower()\n",
    "                index_y_word = [label_encoder.transform([y_word])]\n",
    "                np.savetxt(file_data, [v1+v2+index_y_word], fmt=\"%2.6f\",delimiter=\",\")\n",
    "            except:\n",
    "                #print('Error during get vector for:{} {} {}'.format(w1, w2, w3))\n",
    "                countError+=1\n",
    "                pass\n",
    "    print(\"count of 3-grams={}\".format(count))        \n",
    "    print(\"count on unknown 3-grams={}\".format(countError)) \n",
    "    file_data.close()\n",
    "    return"
   ]
  },
  {
   "cell_type": "code",
   "execution_count": 16,
   "metadata": {},
   "outputs": [],
   "source": [
    "#generate_file_trigram_X_Y(onehot_encoder, label_encoder, tokenized_word_sents, \"train_3gram_nopad_vectors.csv\")"
   ]
  },
  {
   "cell_type": "code",
   "execution_count": 17,
   "metadata": {},
   "outputs": [
    {
     "name": "stdout",
     "output_type": "stream",
     "text": [
      "len of all sentences:  992\n",
      "len of all tokens:  20031\n"
     ]
    }
   ],
   "source": [
    "ftest=open(\"test.txt\", \"r\",encoding=\"utf-8\")\n",
    "test_text_raw = ftest.read()\n",
    "test_all_tokens, test_text_sents_cleaned, test_tokenized_word_sents = prepare_text(test_text_raw)"
   ]
  },
  {
   "cell_type": "code",
   "execution_count": 19,
   "metadata": {},
   "outputs": [
    {
     "name": "stdout",
     "output_type": "stream",
     "text": [
      "count of 3-grams=18046\n",
      "count on unknown 3-grams=1244\n"
     ]
    }
   ],
   "source": [
    "generate_file_trigram_X_Y(onehot_encoder, label_encoder, test_tokenized_word_sents, \"test_3gram_nopad_vectors.csv\")"
   ]
  },
  {
   "cell_type": "code",
   "execution_count": 20,
   "metadata": {},
   "outputs": [],
   "source": [
    "train_data = np.loadtxt('train_3gram_nopad_vectors.csv', delimiter=',')"
   ]
  },
  {
   "cell_type": "code",
   "execution_count": 21,
   "metadata": {},
   "outputs": [
    {
     "name": "stdout",
     "output_type": "stream",
     "text": [
      "735535\n"
     ]
    }
   ],
   "source": [
    "num_train_3grams = len(train_data)\n",
    "print(num_train_3grams)"
   ]
  },
  {
   "cell_type": "code",
   "execution_count": 22,
   "metadata": {},
   "outputs": [],
   "source": [
    "test_data = np.loadtxt('test_3gram_nopad_vectors.csv', delimiter=',')"
   ]
  },
  {
   "cell_type": "code",
   "execution_count": 23,
   "metadata": {},
   "outputs": [
    {
     "name": "stdout",
     "output_type": "stream",
     "text": [
      "16802\n"
     ]
    }
   ],
   "source": [
    "num_test_3grams = len(test_data)\n",
    "print(num_test_3grams)"
   ]
  },
  {
   "cell_type": "code",
   "execution_count": 24,
   "metadata": {},
   "outputs": [],
   "source": [
    "#print(history.history['val_perplexity'])\n",
    "def perplexity(y_true, y_pred):\n",
    "    cross_entropy = losses.categorical_crossentropy(y_true, y_pred)\n",
    "    perplexity = backend.pow(2.0, cross_entropy)\n",
    "    return perplexity"
   ]
  },
  {
   "cell_type": "code",
   "execution_count": 25,
   "metadata": {},
   "outputs": [],
   "source": [
    "from tensorflow.keras.optimizers import SGD\n",
    "\n",
    "def build_model(input_dim, vocab_size, hidden_units, learning_rate):\n",
    "    model = Sequential()\n",
    "    model.add(Dense(hidden_units, input_dim=input_dim, activation='sigmoid'))\n",
    "    model.add(Dense(vocab_size, activation='softmax'))\n",
    "    sgd = SGD(lr=learning_rate, momentum=0., decay=0., nesterov=False)\n",
    "    model.compile(loss='categorical_crossentropy', optimizer=sgd, metrics=[perplexity])\n",
    "    return model"
   ]
  },
  {
   "cell_type": "code",
   "execution_count": 26,
   "metadata": {},
   "outputs": [],
   "source": [
    "class ReportCallback(callbacks.Callback):\n",
    "\n",
    "    def on_epoch_end(self, epoch, logs={}):\n",
    "        print(\"Epoch {}: perplexity={}, loss={}, val_perplexity={}, val_loss={},\".format(\n",
    "                epoch, logs[\"perplexity\"], logs[\"loss\"], logs[\"val_perplexity\"], logs[\"val_loss\"]))"
   ]
  },
  {
   "cell_type": "code",
   "execution_count": 27,
   "metadata": {},
   "outputs": [],
   "source": [
    "import random \n",
    "def generator_batch (input_size, vocab_size, ngrams_data, batch_size, num_data):\n",
    "    batch_features = np.zeros((batch_size, input_size))\n",
    "    batch_labels = np.zeros((batch_size,vocab_size))        \n",
    "    while True:\n",
    "        index = random.randrange(num_data-batch_size-1)\n",
    "        #selected_data = np.loadtxt(csv_filename, delimiter=',', skiprows=index, max_rows=batch_size)\n",
    "        selected_data = ngrams_data[index:index+batch_size]\n",
    "        for i in range(len(selected_data)):\n",
    "            batch_features[i] = selected_data[i][:input_size]\n",
    "            y1= np.array([int(selected_data[i][input_size])])\n",
    "            d = onehot_encoder.transform(y1.reshape(-1, 1))\n",
    "            batch_labels[i] = list(d[0])                       \n",
    "        \n",
    "        yield batch_features, batch_labels   "
   ]
  },
  {
   "cell_type": "code",
   "execution_count": 28,
   "metadata": {},
   "outputs": [
    {
     "name": "stdout",
     "output_type": "stream",
     "text": [
      "num_train_3grams: 735535\n",
      "num_test_3grams: 16802\n",
      "input_size: 100\n",
      "vocab_size: 57500\n",
      "steps_per_epoch: 22985\n",
      "validation_steps: 525\n"
     ]
    }
   ],
   "source": [
    "print(\"num_train_3grams:\", num_train_3grams)\n",
    "print(\"num_test_3grams:\", num_test_3grams)\n",
    "input_size = len(train_data[0])-1\n",
    "print(\"input_size:\", input_size)\n",
    "print(\"vocab_size:\", vocab_size)\n",
    "batch_size = 32\n",
    "steps_per_epoch = int(num_train_3grams/batch_size)\n",
    "validation_steps = int(num_test_3grams/batch_size)\n",
    "print(\"steps_per_epoch:\", steps_per_epoch)\n",
    "print(\"validation_steps:\", validation_steps)"
   ]
  },
  {
   "cell_type": "code",
   "execution_count": 29,
   "metadata": {},
   "outputs": [
    {
     "name": "stdout",
     "output_type": "stream",
     "text": [
      "_________________________________________________________________\n",
      "Layer (type)                 Output Shape              Param #   \n",
      "=================================================================\n",
      "dense (Dense)                (None, 35)                3535      \n",
      "_________________________________________________________________\n",
      "dense_1 (Dense)              (None, 57500)             2070000   \n",
      "=================================================================\n",
      "Total params: 2,073,535\n",
      "Trainable params: 2,073,535\n",
      "Non-trainable params: 0\n",
      "_________________________________________________________________\n"
     ]
    }
   ],
   "source": [
    "model = build_model(input_size, vocab_size,hidden_units=35, learning_rate=0.02)\n",
    "model.summary()"
   ]
  },
  {
   "cell_type": "code",
   "execution_count": 30,
   "metadata": {},
   "outputs": [],
   "source": [
    "def train_model(model, model_filepath, pretrained_weights, epoch_num):\n",
    "    if (pretrained_weights == True):\n",
    "        model.load_weights(model_filepath)\n",
    "    #--------------------------------------\n",
    "    checkpointer = ModelCheckpoint(model_filepath, monitor='val_perplexity', verbose=1, save_best_only=True, mode='min')\n",
    "\n",
    "    metrics = model.fit_generator(generator_batch(input_size, vocab_size, train_data, batch_size, num_train_3grams), \n",
    "                              steps_per_epoch=1000, \n",
    "                              validation_data=generator_batch(input_size, vocab_size, test_data, batch_size, num_test_3grams), \n",
    "                              validation_steps=30, \n",
    "                              epochs=epoch_num, verbose=0, callbacks=[ReportCallback(),checkpointer], workers=10,shuffle=True)    \n",
    "    return metrics"
   ]
  },
  {
   "cell_type": "code",
   "execution_count": 31,
   "metadata": {},
   "outputs": [
    {
     "name": "stdout",
     "output_type": "stream",
     "text": [
      "Epoch 0: perplexity=1559.7351536865235, loss=9.871210646152496, val_perplexity=1442.3095174153646, val_loss=8.979808727900187,\n",
      "\n",
      "Epoch 00001: val_perplexity improved from inf to 1442.30952, saving model to model_lm_3w_35n_lr_02_glove.hdf5\n",
      "Epoch 1: perplexity=1402.5439118652343, loss=8.87691444015503, val_perplexity=1393.7584879557292, val_loss=8.705707311630249,\n",
      "\n",
      "Epoch 00002: val_perplexity improved from 1442.30952 to 1393.75849, saving model to model_lm_3w_35n_lr_02_glove.hdf5\n",
      "Epoch 2: perplexity=1349.0377880249023, loss=8.589918107032776, val_perplexity=1346.9901977539062, val_loss=8.426614491144816,\n",
      "\n",
      "Epoch 00003: val_perplexity improved from 1393.75849 to 1346.99020, saving model to model_lm_3w_35n_lr_02_glove.hdf5\n",
      "Epoch 3: perplexity=1308.6374639282226, loss=8.401306473255158, val_perplexity=1241.9459106445313, val_loss=8.158910083770753,\n",
      "\n",
      "Epoch 00004: val_perplexity improved from 1346.99020 to 1241.94591, saving model to model_lm_3w_35n_lr_02_glove.hdf5\n",
      "Epoch 4: perplexity=1278.8972520751954, loss=8.309674293518066, val_perplexity=1207.899814860026, val_loss=8.06191579500834,\n",
      "\n",
      "Epoch 00005: val_perplexity improved from 1241.94591 to 1207.89981, saving model to model_lm_3w_35n_lr_02_glove.hdf5\n",
      "Epoch 5: perplexity=1256.4347818603514, loss=8.222955127239228, val_perplexity=1166.7085083007812, val_loss=8.020589621861776,\n",
      "\n",
      "Epoch 00006: val_perplexity improved from 1207.89981 to 1166.70851, saving model to model_lm_3w_35n_lr_02_glove.hdf5\n",
      "Epoch 6: perplexity=1232.5786105957031, loss=8.172498204231262, val_perplexity=1219.2363505045573, val_loss=8.006031433741251,\n",
      "\n",
      "Epoch 00007: val_perplexity did not improve from 1166.70851\n",
      "Epoch 7: perplexity=1210.7760141906738, loss=8.10363742494583, val_perplexity=1219.6808675130208, val_loss=8.095533752441407,\n",
      "\n",
      "Epoch 00008: val_perplexity did not improve from 1166.70851\n",
      "Epoch 8: perplexity=1193.1681379394531, loss=8.047038646697999, val_perplexity=1150.1047241210938, val_loss=7.818673435846964,\n",
      "\n",
      "Epoch 00009: val_perplexity improved from 1166.70851 to 1150.10472, saving model to model_lm_3w_35n_lr_02_glove.hdf5\n",
      "Epoch 9: perplexity=1193.1611046142577, loss=8.018834774494172, val_perplexity=1189.5838053385417, val_loss=7.972064447402954,\n",
      "\n",
      "Epoch 00010: val_perplexity did not improve from 1150.10472\n",
      "Epoch 10: perplexity=1179.2435257568359, loss=8.01242453622818, val_perplexity=1176.9632100423178, val_loss=7.932654651006063,\n",
      "\n",
      "Epoch 00011: val_perplexity did not improve from 1150.10472\n",
      "Epoch 11: perplexity=1142.4181567687988, loss=7.9064697442054745, val_perplexity=1159.9876403808594, val_loss=7.883128213882446,\n",
      "\n",
      "Epoch 00012: val_perplexity did not improve from 1150.10472\n",
      "Epoch 12: perplexity=1167.744942199707, loss=7.937594235897064, val_perplexity=1156.3155578613282, val_loss=7.826888434092203,\n",
      "\n",
      "Epoch 00013: val_perplexity did not improve from 1150.10472\n",
      "Epoch 13: perplexity=1142.0389085388183, loss=7.870665945529938, val_perplexity=1141.7588521321616, val_loss=7.8037459055582685,\n",
      "\n",
      "Epoch 00014: val_perplexity improved from 1150.10472 to 1141.75885, saving model to model_lm_3w_35n_lr_02_glove.hdf5\n",
      "Epoch 14: perplexity=1149.8340090942384, loss=7.873197980880738, val_perplexity=1209.2453776041666, val_loss=7.88099684715271,\n",
      "\n",
      "Epoch 00015: val_perplexity did not improve from 1141.75885\n",
      "Epoch 15: perplexity=1145.1448757019043, loss=7.864419762611389, val_perplexity=1107.7582397460938, val_loss=7.792518885930379,\n",
      "\n",
      "Epoch 00016: val_perplexity improved from 1141.75885 to 1107.75824, saving model to model_lm_3w_35n_lr_02_glove.hdf5\n",
      "Epoch 16: perplexity=1142.8902337036134, loss=7.853841717720032, val_perplexity=1076.8255004882812, val_loss=7.780927658081055,\n",
      "\n",
      "Epoch 00017: val_perplexity improved from 1107.75824 to 1076.82550, saving model to model_lm_3w_35n_lr_02_glove.hdf5\n",
      "Epoch 17: perplexity=1114.5710025024414, loss=7.7879258728027345, val_perplexity=1126.594327799479, val_loss=7.811844523747762,\n",
      "\n",
      "Epoch 00018: val_perplexity did not improve from 1076.82550\n",
      "Epoch 18: perplexity=1134.0514321289063, loss=7.819479159355163, val_perplexity=1051.2792195638021, val_loss=7.656121301651001,\n",
      "\n",
      "Epoch 00019: val_perplexity improved from 1076.82550 to 1051.27922, saving model to model_lm_3w_35n_lr_02_glove.hdf5\n",
      "Epoch 19: perplexity=1116.8841912231446, loss=7.785341900348663, val_perplexity=1099.4396118164063, val_loss=7.705697695414226,\n",
      "\n",
      "Epoch 00020: val_perplexity did not improve from 1051.27922\n",
      "Epoch 20: perplexity=1114.9227666015624, loss=7.803918602466584, val_perplexity=1137.1504821777344, val_loss=7.770282363891601,\n",
      "\n",
      "Epoch 00021: val_perplexity did not improve from 1051.27922\n",
      "Epoch 21: perplexity=1134.1921218261718, loss=7.779184505939484, val_perplexity=1083.5529947916666, val_loss=7.749896065394084,\n",
      "\n",
      "Epoch 00022: val_perplexity did not improve from 1051.27922\n",
      "Epoch 22: perplexity=1118.6139162902832, loss=7.7727538118362425, val_perplexity=1151.0038798014323, val_loss=7.733640225728353,\n",
      "\n",
      "Epoch 00023: val_perplexity did not improve from 1051.27922\n",
      "Epoch 23: perplexity=1131.6638314361571, loss=7.80140545797348, val_perplexity=1033.7888977050782, val_loss=7.5487321217854815,\n",
      "\n",
      "Epoch 00024: val_perplexity improved from 1051.27922 to 1033.78890, saving model to model_lm_3w_35n_lr_02_glove.hdf5\n",
      "Epoch 24: perplexity=1111.722211364746, loss=7.7668019971847535, val_perplexity=1063.018400065104, val_loss=7.577565272649129,\n",
      "\n",
      "Epoch 00025: val_perplexity did not improve from 1033.78890\n"
     ]
    }
   ],
   "source": [
    "model_filepath = 'model_lm_3w_35n_lr_02_glove.hdf5'\n",
    "metrics = train_model(model, model_filepath, pretrained_weights=False, epoch_num=25)"
   ]
  },
  {
   "cell_type": "code",
   "execution_count": 32,
   "metadata": {},
   "outputs": [
    {
     "data": {
      "text/plain": [
       "<matplotlib.axes._subplots.AxesSubplot at 0x2672bec89b0>"
      ]
     },
     "execution_count": 32,
     "metadata": {},
     "output_type": "execute_result"
    },
    {
     "data": {
      "image/png": "[encoded data removed]",
      "text/plain": [
       "<Figure size 432x288 with 2 Axes>"
      ]
     },
     "metadata": {
      "needs_background": "light"
     },
     "output_type": "display_data"
    }
   ],
   "source": [
    "#print(metrics.history['val_perplexity'])\n",
    "result = pd.DataFrame.from_dict(metrics.history)\n",
    "result.plot.line(secondary_y=[\"loss\", \"val_loss\"])"
   ]
  },
  {
   "cell_type": "code",
   "execution_count": 33,
   "metadata": {},
   "outputs": [],
   "source": [
    "perp_trfile = open('perp_train_lm_3w_35n_lr_02_glove.csv', \"ab\")    \n",
    "np.savetxt(perp_trfile, metrics.history.get('perplexity'), fmt=\"%2.6f\",delimiter=\",\")\n",
    "perp_trfile.close()\n",
    "\n",
    "perp_tsfile = open('perp_test_lm_3w_35n_lr_02_glove.csv', \"ab\")    \n",
    "np.savetxt(perp_tsfile, metrics.history.get('val_perplexity'), fmt=\"%2.6f\",delimiter=\",\")\n",
    "perp_tsfile.close()"
   ]
  },
  {
   "cell_type": "code",
   "execution_count": 5,
   "metadata": {},
   "outputs": [
    {
     "data": {
      "image/png": "[encoded data removed]",
      "text/plain": [
       "<Figure size 432x288 with 1 Axes>"
      ]
     },
     "metadata": {
      "needs_background": "light"
     },
     "output_type": "display_data"
    }
   ],
   "source": [
    "import matplotlib.pyplot as plt\n",
    "import numpy as np\n",
    "\n",
    "train_perp = np.loadtxt('perp_train_lm_3w_35n_lr_02_glove.csv', delimiter=',')\n",
    "test_perp = np.loadtxt('perp_test_lm_3w_35n_lr_02_glove.csv', delimiter=',')\n",
    "\n",
    "x1 = np.array(range(len(train_perp)))\n",
    "x2 = np.array(range(len(test_perp)))\n",
    "\n",
    "# plot the data\n",
    "fig = plt.figure()\n",
    "ax = fig.add_subplot(1, 1, 1)\n",
    "ax.plot(x1, train_perp, color='tab:blue', label='Perplexity')\n",
    "ax.plot(x2, test_perp, color='tab:orange', label='val_Perplexity')\n",
    "\n",
    "ax.set_title(\"Evaluate Perplexity\")\n",
    "ax.set_xlabel('Epoch')\n",
    "ax.set_ylabel('Perplexity')\n",
    "plt.legend(loc=\"upper right\")\n",
    "plt.show()"
   ]
  },
  {
   "cell_type": "code",
   "execution_count": null,
   "metadata": {},
   "outputs": [],
   "source": []
  }
 ],
 "metadata": {
  "kernelspec": {
   "display_name": "Python 3",
   "language": "python",
   "name": "python3"
  },
  "language_info": {
   "codemirror_mode": {
    "name": "ipython",
    "version": 3
   },
   "file_extension": ".py",
   "mimetype": "text/x-python",
   "name": "python",
   "nbconvert_exporter": "python",
   "pygments_lexer": "ipython3",
   "version": "3.6.10"
  }
 },
 "nbformat": 4,
 "nbformat_minor": 2
}
